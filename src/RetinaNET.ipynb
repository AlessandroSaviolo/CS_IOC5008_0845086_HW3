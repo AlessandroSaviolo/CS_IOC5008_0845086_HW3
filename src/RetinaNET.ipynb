{
  "nbformat": 4,
  "nbformat_minor": 0,
  "metadata": {
    "kernelspec": {
      "name": "python3",
      "display_name": "Python 3"
    },
    "language_info": {
      "codemirror_mode": {
        "name": "ipython",
        "version": 3
      },
      "file_extension": ".py",
      "mimetype": "text/x-python",
      "name": "python",
      "nbconvert_exporter": "python",
      "pygments_lexer": "ipython3",
      "version": "3.7.3"
    },
    "colab": {
      "name": "RetinaNET.ipynb",
      "provenance": [],
      "collapsed_sections": []
    },
    "accelerator": "GPU"
  },
  "cells": [
    {
      "cell_type": "code",
      "metadata": {
        "id": "GtrsTmoNGILx",
        "colab_type": "code",
        "colab": {}
      },
      "source": [
        "from google.colab import drive\n",
        "drive.mount('/content/gdrive', force_remount=True)"
      ],
      "execution_count": 0,
      "outputs": []
    },
    {
      "cell_type": "code",
      "metadata": {
        "id": "OQUC3Avwyd7l",
        "colab_type": "code",
        "colab": {}
      },
      "source": [
        "from keras_retinanet import models\n",
        "from keras_retinanet.utils.image import preprocess_image, resize_image\n",
        "import cv2\n",
        "import os\n",
        "import numpy as np\n",
        "import pandas as pd\n",
        "import warnings\n",
        "# pip install keras-retinanet\n",
        "warnings.filterwarnings('ignore', category=DeprecationWarning)\n",
        "warnings.filterwarnings('ignore', category=FutureWarning)"
      ],
      "execution_count": 0,
      "outputs": []
    },
    {
      "cell_type": "code",
      "metadata": {
        "id": "M7Ta59pcydw3",
        "colab_type": "code",
        "colab": {}
      },
      "source": [
        "def load_inference_model(model_path=os.path.join('snapshots', 'resnet.h5')):\n",
        "    model = models.load_model(model_path, backbone_name='resnet50')\n",
        "    model = models.convert_model(model)\n",
        "    return model"
      ],
      "execution_count": 0,
      "outputs": []
    },
    {
      "cell_type": "code",
      "metadata": {
        "id": "8KnS-84AxtFF",
        "colab_type": "code",
        "outputId": "52fd2a35-6281-4554-fc47-dd74071fa78d",
        "colab": {
          "base_uri": "https://localhost:8080/",
          "height": 67
        }
      },
      "source": [
        "# load model\n",
        "print('Loading model')\n",
        "model = load_inference_model('/content/gdrive/My Drive/resnet.h5')\n",
        "\n",
        "# load test images\n",
        "print('Loading test image')\n",
        "image = cv2.imread('/content/gdrive/My Drive/SVHNtest/3.png')\n",
        "\n",
        "# preprocess image for network\n",
        "print('Preprocessing test image')\n",
        "draw = image.copy()\n",
        "draw = cv2.cvtColor(draw, cv2.COLOR_BGR2RGB)\n",
        "image = preprocess_image(image)\n",
        "image, _ = resize_image(image, 416, 448)"
      ],
      "execution_count": 43,
      "outputs": [
        {
          "output_type": "stream",
          "text": [
            "Loading model\n",
            "Loading test image\n",
            "Preprocessing test image\n"
          ],
          "name": "stdout"
        }
      ]
    },
    {
      "cell_type": "code",
      "metadata": {
        "id": "Ii4auhS64SF1",
        "colab_type": "code",
        "colab": {}
      },
      "source": [
        "def infer(image):\n",
        "    # process image\n",
        "    boxes, scores, labels = model.predict_on_batch(np.expand_dims(image, axis=0))"
      ],
      "execution_count": 0,
      "outputs": []
    },
    {
      "cell_type": "code",
      "metadata": {
        "id": "zWmJi8Qs2TQ2",
        "colab_type": "code",
        "outputId": "1bbfabb8-5640-4d04-82a1-48384ce35639",
        "colab": {
          "base_uri": "https://localhost:8080/",
          "height": 67
        }
      },
      "source": [
        "# testing inference time\n",
        "print('Testing inference time')\n",
        "%timeit infer(image)"
      ],
      "execution_count": 45,
      "outputs": [
        {
          "output_type": "stream",
          "text": [
            "Testing inference time\n",
            "The slowest run took 277.18 times longer than the fastest. This could mean that an intermediate result is being cached.\n",
            "1 loop, best of 3: 60.4 ms per loop\n"
          ],
          "name": "stdout"
        }
      ]
    },
    {
      "cell_type": "code",
      "metadata": {
        "id": "a_ZYAkDT41ct",
        "colab_type": "code",
        "colab": {}
      },
      "source": [
        ""
      ],
      "execution_count": 0,
      "outputs": []
    }
  ]
}